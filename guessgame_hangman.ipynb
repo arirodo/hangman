{
  "cells": [
    {
      "cell_type": "markdown",
      "metadata": {
        "id": "view-in-github",
        "colab_type": "text"
      },
      "source": [
        "<a href=\"https://colab.research.google.com/github/arirodo/hangman/blob/main/guessgame_hangman.ipynb\" target=\"_parent\"><img src=\"https://colab.research.google.com/assets/colab-badge.svg\" alt=\"Open In Colab\"/></a>"
      ]
    },
    {
      "cell_type": "markdown",
      "metadata": {
        "id": "iflhr6oI4NSn"
      },
      "source": [
        "#THE HANGMAN PROJECT"
      ]
    },
    {
      "cell_type": "markdown",
      "metadata": {
        "id": "Gzmr5SfY4uu_"
      },
      "source": [
        "##Import libraries"
      ]
    },
    {
      "cell_type": "code",
      "execution_count": null,
      "metadata": {
        "id": "hFtY_FRv4Llx"
      },
      "outputs": [],
      "source": [
        "import random\n",
        "from IPython.display import clear_output"
      ]
    },
    {
      "cell_type": "markdown",
      "metadata": {
        "id": "qw-alMqr6yyd"
      },
      "source": [
        "##List of Characters"
      ]
    },
    {
      "cell_type": "code",
      "execution_count": null,
      "metadata": {
        "id": "NeXMEYf465nJ"
      },
      "outputs": [],
      "source": [
        "dc_marvel=['batman','batgirl','catwoman','superman','wonderwoman','shazam','zatanna', 'aquaman','bumblebee','hawkgirl','wolverine','ironman','punisher','spiderman','antman','loki','thor','rorschach','ozymandias','drmanhattan','comedian','silkspectre']"
      ]
    },
    {
      "cell_type": "markdown",
      "metadata": {
        "id": "CgJWww_RFGnE"
      },
      "source": [
        "##List of Tips"
      ]
    },
    {
      "cell_type": "code",
      "execution_count": null,
      "metadata": {
        "id": "HvGmFp1nFJWs"
      },
      "outputs": [],
      "source": [
        "dc_marvel_tips = {\n",
        "  'hangman' : 'Lieutenant and doctor in the United States Army during the Civil War against the Confederate States of America.',\n",
        "  'batman' : 'Parents were murdered',\n",
        "  'batgirl' : 'Allied with Robin',\n",
        "  'catwoman' : 'Gotham City burglar',\n",
        "  'superman' : 'Longs for telephone cabinets',\n",
        "  'wonderwoman' : 'Founding member of the Justice League',\n",
        "  'shazam' : 'Fights agains the Monster Society of Evil',\n",
        "  'zatanna' : 'Involved with both the Justice League and Justice League Dark',\n",
        "  'aquaman' : 'Founding member of the Justice League',\n",
        "  'bumblebee' : 'Member of the Teen Titans',\n",
        "  'hawkgirl' : 'Carries Nth metal',\n",
        "  'wolverine' : 'Member of the X-men and the Avengers',\n",
        "  'ironman' :  'Member of the Avengers',\n",
        "  'punisher' : 'Fights against a spider',\n",
        "  'spiderman' : 'Member of the X-men and the Avengers',\n",
        "  'antman' : 'Member of the Avengers',\n",
        "  'loki' : 'An unreliable brother',\n",
        "  'rorschach' : 'Member of the Watchmen',\n",
        "  'ozymandias' : 'Member of the Watchmen',\n",
        "  'drmanhattan' : 'Member of the Watchmen',\n",
        "  'comedian' : 'Member of the Watchmen',\n",
        "  'silkspectre' : 'Member of the Watchmen',\n",
        "\n",
        "}"
      ]
    },
    {
      "cell_type": "markdown",
      "metadata": {
        "id": "p6jpPlAdlNug"
      },
      "source": [
        "## Dictionary Hangman"
      ]
    },
    {
      "cell_type": "code",
      "execution_count": null,
      "metadata": {
        "id": "8Ii7cqcmlUZC"
      },
      "outputs": [],
      "source": [
        "# Draws a hangman by the error. 8 is for victory.\n",
        "hangman = {\n",
        "    0 : \" \",\n",
        "    1 : \"\\n  !\\n  O\\n\",\n",
        "    2 : \"\\n  !\\n  O\\n  U\\n\",\n",
        "    3 : \"\\n  !\\n  O\\n `U\\n\",\n",
        "    4 : \"\\n  !\\n  O\\n `U´\\n\",\n",
        "    5 : \"\\n  !\\n  O\\n `U´\\n ´\",\n",
        "    6 : \"\\n  !\\n  O\\n `U´\\n ´ `\",\n",
        "    8 : \"\\n   O\\n  `U´\\n  ´ `\",\n",
        "}"
      ]
    },
    {
      "cell_type": "markdown",
      "metadata": {
        "id": "wprJbugG4h68"
      },
      "source": [
        "##Hangman in action"
      ]
    },
    {
      "cell_type": "code",
      "execution_count": null,
      "metadata": {
        "id": "bhZ7jm3F4-9F"
      },
      "outputs": [],
      "source": [
        "# Pick a random name character name from DC or Marvel and creates a list out of it\n",
        "secret_word_string = dc_marvel[random.randint(0,len(dc_marvel))]\n",
        "secret_word = list(secret_word_string)\n",
        "len_sw = len(secret_word) \n",
        "\n",
        "countera = 0 \n",
        "counterb = 0\n",
        "buffer = []\n",
        "guess_word = []\n",
        "tip = \"\"\n",
        "\n",
        "# Hides the word behind the character '-'\n",
        "while countera < len_sw:\n",
        "  guess_word.append('-')\n",
        "  countera += 1\n",
        "\n",
        "# Asks for input with a maximum of errors 6\n",
        "while counterb < 6 and guess_word != secret_word:\n",
        "    print(hangman[counterb])\n",
        "    print('Guess the DC / MARVEL Character!',(6-counterb),'out of 6: ' ,''.join(guess_word),'\\nTIPP: 111')\n",
        "    print('Letters used:' ,' - '.join(buffer))\n",
        "    print(tip)\n",
        "    letter = input('Give me a letter: ').lower()\n",
        "    if letter != '111' and letter not in buffer and len(letter)==1 and letter.isalpha()== True:\n",
        "      buffer.append(letter)\n",
        "      clear_output(wait=True)\n",
        "      if letter in secret_word:\n",
        "        for count, char in enumerate(secret_word):\n",
        "          if letter == secret_word[count]:\n",
        "            guess_word[count] = letter\n",
        "      else:\n",
        "        if len(letter)==1 and letter.isalpha()== True:\n",
        "          counterb += 1\n",
        "    else:\n",
        "      clear_output(wait=True)\n",
        "      x='_'\n",
        "      if letter in buffer:\n",
        "        print(f'You have used \"{letter}\" already.\\nChoose another one.\\n', x.ljust(60,'_'))\n",
        "      else:\n",
        "          if (letter =='111'): #Gets you a tip at the price of 1 life\n",
        "            tip=dc_marvel_tips.get(secret_word_string)\n",
        "            counterb +=1\n",
        "          else:\n",
        "            print(f'The input \"{letter}\" is not valid.\\nOnly a valid single letter will be accepted.\\n', x.ljust(60,'_'))\n",
        "\n",
        "\n",
        "if counterb == 6 and guess_word != secret_word:\n",
        "  print('##############################################################')\n",
        "  print(hangman[counterb],'\\tGame over, my friend! Solution was',''.join(secret_word).upper())\n",
        "  print('\\n##############################################################')\n",
        "else:\n",
        "  print(hangman[8])\n",
        "  print('**************************************************************\\n')\n",
        "  print('\\tWhat a geek! You have discovered:',''.join(secret_word).upper())\n",
        "  print('\\n**************************************************************')"
      ]
    }
  ],
  "metadata": {
    "colab": {
      "collapsed_sections": [
        "Gzmr5SfY4uu_",
        "qw-alMqr6yyd",
        "CgJWww_RFGnE",
        "p6jpPlAdlNug"
      ],
      "toc_visible": true,
      "provenance": [],
      "authorship_tag": "ABX9TyNDUrWKbglRwWwFc7w1lyD8",
      "include_colab_link": true
    },
    "kernelspec": {
      "display_name": "Python 3",
      "name": "python3"
    },
    "language_info": {
      "name": "python"
    }
  },
  "nbformat": 4,
  "nbformat_minor": 0
}